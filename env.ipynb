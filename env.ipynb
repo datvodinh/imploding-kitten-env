{
 "cells": [
  {
   "cell_type": "code",
   "execution_count": 300,
   "metadata": {},
   "outputs": [],
   "source": [
    "import numpy as np\n",
    "from numba import njit\n",
    "import numba\n",
    "from numba.typed import List\n",
    "import sys"
   ]
  },
  {
   "cell_type": "code",
   "execution_count": 301,
   "metadata": {},
   "outputs": [],
   "source": [
    "@njit\n",
    "def getActionSize():\n",
    "    return 50"
   ]
  },
  {
   "cell_type": "code",
   "execution_count": 302,
   "metadata": {},
   "outputs": [],
   "source": [
    "@njit\n",
    "def getStateSize():\n",
    "    return 87"
   ]
  },
  {
   "cell_type": "code",
   "execution_count": 303,
   "metadata": {},
   "outputs": [],
   "source": [
    "@njit\n",
    "def initEnv():\n",
    "    env = np.zeros(75)\n",
    "    card = np.arange(46) #card except Defuse and Explo kitten\n",
    "    np.random.shuffle(card)\n",
    "    env[:56] += 5 # 5 is card on draw pile\n",
    "    for i in range(5): # draw 4 card for player: id from 0 to 4\n",
    "        env[card[i*4:(i+1)*4]] = i\n",
    "        env[46+i] = i\n",
    "    draw_pile = np.where(env==5.)[0].astype(np.float64)\n",
    "    np.random.shuffle(draw_pile)\n",
    "    env[56] = 0 # track if other player use Nope: 1 if yes else 0\n",
    "    env[57] = 0 # track player id main turn \n",
    "    env[58:62] = [2,3,4,0] # track player id Nope turn\n",
    "    discard_pile = np.zeros(13)#card on discard pile will have id 6\n",
    "    env[62:67] = 1 # 0 if lose else 1\n",
    "    env[67] = 0 # [0:main turn, 1:nope turn,2:steal card turn,3:choose/take card turn]\n",
    "    env[68] = 1 # number of card player env[57] have to draw\n",
    "    env[69:72] = [0,0,0] #three card in see the future\n",
    "    env[72] = 0 # player env[57] last action\n",
    "    env[73] = env[57]+1\n",
    "    env[74] = -1\n",
    "    return env,draw_pile,discard_pile"
   ]
  },
  {
   "cell_type": "code",
   "execution_count": 304,
   "metadata": {},
   "outputs": [],
   "source": [
    "@njit\n",
    "def getNumCard(env,id):\n",
    "    return np.where(env==id)[0].shape[0]"
   ]
  },
  {
   "cell_type": "code",
   "execution_count": 305,
   "metadata": {},
   "outputs": [],
   "source": [
    "@njit\n",
    "def getAllNumCard(env):\n",
    "    state = np.zeros(12)\n",
    "    state[0] = getNumCard(env[0:5],env[57])\n",
    "    for i in range(4):\n",
    "        state[1+i] = getNumCard(env[5+i*4:9+i*4],env[57])\n",
    "    state[5] = getNumCard(env[21:26],env[57])\n",
    "    for i in range(5):\n",
    "        state[6+i] = getNumCard(env[26+i*4:30+i*4],env[57])\n",
    "    state[11] = getNumCard(env[46:52],env[57])\n",
    "    return state"
   ]
  },
  {
   "cell_type": "code",
   "execution_count": 306,
   "metadata": {},
   "outputs": [],
   "source": [
    "@njit\n",
    "def getCardType(id):\n",
    "    cards = List([np.arange(0.,5.),np.arange(5.,9.),np.arange(9.,13.),np.arange(13.,17.),np.arange(17.,21.),np.arange(21.,26.),np.arange(26.,30.),np.arange(30.,34.),np.arange(34.,38.),np.arange(38.,42.),np.arange(42.,46.),np.arange(46.,52.),np.arange(52.,56.)])\n",
    "    i = 0\n",
    "    for c in cards:\n",
    "        if id in c:\n",
    "            return i\n",
    "        i+=1"
   ]
  },
  {
   "cell_type": "code",
   "execution_count": 355,
   "metadata": {},
   "outputs": [],
   "source": [
    "@njit\n",
    "def getCardRange(type):\n",
    "    cards = List([np.arange(0.,5.),np.arange(5.,9.),np.arange(9.,13.),np.arange(13.,17.),np.arange(17.,21.),np.arange(21.,26.),np.arange(26.,30.),np.arange(30.,34.),np.arange(34.,38.),np.arange(38.,42.),np.arange(42.,46.),np.arange(46.,52.),np.arange(52.,56.)])\n",
    "    return cards[type].astype(np.int64)"
   ]
  },
  {
   "cell_type": "code",
   "execution_count": 308,
   "metadata": {},
   "outputs": [],
   "source": [
    "@njit\n",
    "def getAgentState(env,draw_pile,discard_pile):\n",
    "    state = np.zeros(getStateSize())\n",
    "    #get card\n",
    "    state[0:12] = getAllNumCard(env)\n",
    "    \n",
    "    state[12:25] = discard_pile #discard pile\n",
    "    state[25] = draw_pile.shape[0] #number of card in draw pile\n",
    "    state[26] = np.where(env[62:67]==0)[0].shape[0]\n",
    "    state[27] = env[56]%2 #1 if action been Nope else 0\n",
    "    for i in range(3):\n",
    "        state[28+13*i:41+13*i] = getCardType(env[69+i])# three card if use see the future\n",
    "    state[67:71][int(env[67])] = 1 #[main turn,nope turn,take card turn]\n",
    "    state[71] = env[68] # number of card player have to draw\n",
    "    state[72:82][int(env[72])] = 1# player main turn last action\n",
    "    state[82:86] = env[62:67][env[58:62].astype(np.int64)]\n",
    "    state[86] = env[62:67][int(env[57])]\n",
    "    return state\n"
   ]
  },
  {
   "cell_type": "code",
   "execution_count": 309,
   "metadata": {},
   "outputs": [],
   "source": [
    "@njit\n",
    "def getValidActions(state):\n",
    "    list_action = np.zeros(getActionSize())\n",
    "    if state[67]==1:#main turn\n",
    "        list_action[1:6] = (state[1:6]>0).astype(np.float64)\n",
    "        list_action[6] = 1\n",
    "        if np.max(state[0:11])>=2:#two of a kind\n",
    "            list_action[7] = True\n",
    "        if np.max(state[0:11])>=3:#three of a kind\n",
    "            list_action[8] = True\n",
    "        type_card = (state[0:11]>0).astype(np.float64)\n",
    "        if np.sum(type_card)>=5:#five of a kind\n",
    "            list_action[9] = True\n",
    "\n",
    "    elif state[68]==1: #Nope turn\n",
    "        list_action[0] = 1\n",
    "        list_action[10] = 1\n",
    "\n",
    "    elif state[69]==1: #steal turn\n",
    "        list_action[11:15]  = 1\n",
    "        \n",
    "    elif state[70]==1: #choose/take card turn\n",
    "        main_action =  np.where(state[72:82])[0][0]\n",
    "        if main_action==3:\n",
    "            list_action[15:26] = 1\n",
    "        elif main_action==7:\n",
    "            list_action[27:38] = 1\n",
    "        elif main_action==8:\n",
    "            list_action[38:49] = 1\n",
    "\n",
    "    return list_action\n",
    "    \n",
    "    \n",
    "        \n",
    "\n",
    "\n"
   ]
  },
  {
   "cell_type": "code",
   "execution_count": 310,
   "metadata": {},
   "outputs": [],
   "source": [
    "@njit\n",
    "def checkDefuse(env,discard_pile:np.ndarray): # get the Defuse (if player have else None)\n",
    "    card = np.where(env[46:52]==env[57])[0].astype(np.int64)\n",
    "    if card.shape[0] > 0:\n",
    "        card_id = card[0]\n",
    "        env[46:52][card_id] = 6\n",
    "        discard_pile = np.append(discard_pile,card_id+46)\n",
    "        return True\n",
    "    return False"
   ]
  },
  {
   "cell_type": "code",
   "execution_count": 311,
   "metadata": {},
   "outputs": [],
   "source": [
    "@njit\n",
    "def checkExploding(card): # check if that card is expode or not\n",
    "    explode = np.array([52,53,54,55],dtype=np.float64)\n",
    "    if card in explode:\n",
    "        return True\n",
    "    return False"
   ]
  },
  {
   "cell_type": "code",
   "execution_count": 312,
   "metadata": {},
   "outputs": [],
   "source": [
    "@njit\n",
    "def drawCard(env,draw_pile,discard_pile):\n",
    "    for i in range(env[68].astype(np.int64)):\n",
    "        if checkExploding(draw_pile[0]):#draw an exploding kitten\n",
    "            if checkDefuse(env,discard_pile):#player have defuse \n",
    "                draw_pile = np.concatenate(draw_pile[1:],draw_pile[0])#insert explode card back to the Draw Pile\n",
    "            else:#player lost\n",
    "                env[62:67][env[57]] = 0\n",
    "                discard_pile = np.append(discard_pile,draw_pile[0])\n",
    "                draw_pile = draw_pile[1:]\n",
    "        else:#draw other card\n",
    "            env[0:56][draw_pile[0].astype(np.int64)] = env[57] #draw\n",
    "            discard_pile = np.append(discard_pile,draw_pile[0])\n",
    "            draw_pile = draw_pile[1:]\n",
    "    "
   ]
  },
  {
   "cell_type": "code",
   "execution_count": 313,
   "metadata": {},
   "outputs": [],
   "source": [
    "@njit\n",
    "def changeTurn(env):\n",
    "    env[57] = (env[57]+1)%5\n",
    "    while env[62:67][env[57]]==0:#if player id is already lost.\n",
    "        env[57] = (env[57]+1)%5\n",
    "    env[58:62] = np.arange(env[57]+1,env[57]+5)%5"
   ]
  },
  {
   "cell_type": "code",
   "execution_count": 314,
   "metadata": {},
   "outputs": [],
   "source": [
    "@njit\n",
    "def nopeTurn(id):\n",
    "        return np.arange(id+1.,id+5.) % 5"
   ]
  },
  {
   "cell_type": "code",
   "execution_count": 315,
   "metadata": {},
   "outputs": [],
   "source": [
    "@njit\n",
    "def checkIfNope(env):\n",
    "    return env[56]%2==1"
   ]
  },
  {
   "cell_type": "code",
   "execution_count": 316,
   "metadata": {},
   "outputs": [],
   "source": [
    "@njit\n",
    "def executeMainAction(env,draw_pile,discard_pile,action):\n",
    "    if action==1: #Attack #No Nope\n",
    "        changeTurn(env) #change main turn\n",
    "        env[68] = 2 # next player draw 2 card\n",
    "        env[67] = 0\n",
    "        env[5:9][np.where(env[5:9]==env[57])[0][0]] = 6\n",
    "        discard_pile[1]+=1\n",
    "    elif action==2: #Skip\n",
    "        env[68]-=1\n",
    "        if env[68]==0:\n",
    "            changeTurn(env)\n",
    "            env[68] = 1\n",
    "        env[67] = 0\n",
    "        env[9:13][np.where(env[9:13]==env[57])[0][0]] = 6\n",
    "        discard_pile[2]+=1\n",
    "    elif action==3:\n",
    "        env[67] = 2\n",
    "        env[13:17][np.where(env[13:17]==env[57])[0][0]] = 6\n",
    "        discard_pile[3]+=1\n",
    "    elif action==4: #Shuffle\n",
    "        np.random.shuffle(discard_pile)\n",
    "        env[17:21][np.where(env[17:21]==env[57])[0][0]] = 6\n",
    "        discard_pile[4]+=1\n",
    "    elif action==5: #See the future\n",
    "        env[69:72] = draw_pile[0:2]\n",
    "        env[21:26][np.where(env[21:26]==env[57])[0][0]] = 6\n",
    "        discard_pile[5]+=1\n",
    "    elif action==6: #draw card\n",
    "        drawCard(env,draw_pile,discard_pile)\n",
    "    elif action==7:\n",
    "        env[67] = 2\n",
    "    elif action==8:\n",
    "        env[67] = 2\n",
    "    elif action==0:\n",
    "        env[67] = 3\n",
    "    \n",
    "\n"
   ]
  },
  {
   "cell_type": "code",
   "execution_count": 317,
   "metadata": {},
   "outputs": [],
   "source": [
    "def discardCardSpecialAction(env,last_action):\n",
    "    all_num_card = getAllNumCard(env)[:11]\n",
    "    if last_action==7: # two of a kind\n",
    "        if np.max(all_num_card[6:11])>=2:\n",
    "            if 2 in all_num_card[6:11]:\n",
    "                type_card = np.where(all_num_card[6:11]==2)[0][0]+6\n",
    "                env[getCardRange(type_card)][np.where(env[getCardRange(type_card)]==env[57])] = 6\n",
    "            else:\n",
    "                type_card = np.random.choice(np.where(all_num_card[6:11]>2)[0])+6\n",
    "                for i in range(2):\n",
    "                    env[getCardRange(type_card)][np.where(env[getCardRange(type_card)]==env[57])[0]] = 6\n",
    "        else:\n",
    "            type_card = np.random.choice(np.where(all_num_card[0:6]>2)[0])+6\n",
    "            for i in range(2):\n",
    "                env[getCardRange(type_card)][np.where(env[getCardRange(type_card)]==env[57])[0]] = 6\n",
    "            \n",
    "    elif last_action==8:\n",
    "        if np.max(all_num_card[6:11])>=3:\n",
    "            if 3 in all_num_card[6:11]:\n",
    "                type_card = np.where(all_num_card[6:11]==3)[0][0]+6\n",
    "                env[getCardRange(type_card)][np.where(env[getCardRange(type_card)]==env[57])] = 6\n",
    "            else:\n",
    "                type_card = np.random.choice(np.where(all_num_card[6:11]>3)[0])+6\n",
    "                for i in range(3):\n",
    "                    env[getCardRange(type_card)][np.where(env[getCardRange(type_card)]==env[57])[0]] = 6\n",
    "        else:\n",
    "            type_card = np.random.choice(np.where(all_num_card[0:6]>3)[0])+6\n",
    "            for i in range(3):\n",
    "                env[getCardRange(type_card)][np.where(env[getCardRange(type_card)]==env[57])[0]] = 6\n",
    "    elif last_action==9:\n",
    "        if np.sum((all_num_card[6:11]>0).astype(np.float64))==5:\n",
    "            for i in range[5]:\n",
    "                type_card = 6+i\n",
    "                env[getCardRange(type_card)][np.where(env[getCardRange(type_card)]==env[57])[0]] = 6\n",
    "        else:\n",
    "            num_spec = 5 - np.sum((all_num_card[6:11]>0).astype(np.float64))\n",
    "            normal_card = np.where(env[6:11]>0)[0]+6\n",
    "            special_card = np.where(env[0:6]>0)[0]\n",
    "            for n in normal_card:\n",
    "                type_card = n\n",
    "                env[getCardRange(type_card)][np.where(env[getCardRange(type_card)]==env[57])[0]] = 6\n",
    "            for i in range(num_spec):\n",
    "                np.random.shuffle(special_card)\n",
    "                type_card = special_card[0]\n",
    "                env[getCardRange(type_card)][np.where(env[getCardRange(type_card)]==env[57])[0]] = 6\n",
    "                special_card = special_card[1:]\n",
    "\n",
    "            "
   ]
  },
  {
   "cell_type": "code",
   "execution_count": 318,
   "metadata": {},
   "outputs": [],
   "source": [
    "@njit\n",
    "def stepEnv(env,draw_pile,discard_pile,action):\n",
    "    phase = env[67]\n",
    "    main_id = env[57]\n",
    "    nope_id = env[73]\n",
    "    nope_count = env[56]\n",
    "    last_action = env[72]\n",
    "    if phase==0: #Phase 0: Main Turn\n",
    "        last_action = action\n",
    "        env[67]==1 #change to Nope phase\n",
    "    elif phase==1:#Phase 1: Nope phase\n",
    "        if nope_id!=main_id:\n",
    "            if action==0:\n",
    "                nope_count+=1\n",
    "        if (nope_id+1)%5==main_id:\n",
    "            if not checkIfNope(env): #main p card not been Nope\n",
    "                executeMainAction(env,draw_pile,discard_pile,last_action)\n",
    "                env[67] = 0\n",
    "            else:\n",
    "                nope_id = main_id\n",
    "        else:\n",
    "            while np.where(env[0:5]==nope_id)[0].shape[0]==0 and nope_id!=main_id:#if other dont have Nope, skip\n",
    "                nope_id = (nope_id+1)%5\n",
    "        #main_id only in phase 1 if the card has been Nope \n",
    "        if nope_id==main_id and checkIfNope(env):\n",
    "            if np.where(env[0:5]==main_id)[0].shape[0]==0:#main_id dont have Nope\n",
    "                last_action = -1 # last action not exist\n",
    "                env[67] = 0\n",
    "                nope_id = (main_id+1)%5\n",
    "            else:\n",
    "                if action==0:\n",
    "                    nope_count = 0\n",
    "                    nope_id = (main_id+1)%5\n",
    "                    while np.where(env[0:5]==nope_id)[0][0]==0:#if other dont have Nope, skip\n",
    "                        nope_id = (nope_id+1)%5\n",
    "                        if nope_id==main_id:\n",
    "                            break\n",
    "                    if nope_id == main_id:\n",
    "                        executeMainAction(env,draw_pile,discard_pile,last_action)\n",
    "                        env[67] = 0\n",
    "                else:\n",
    "                    last_action = -1 # last action not exist\n",
    "                    phase = 0\n",
    "                    nope_id = (main_id+1)%5\n",
    "                    \n",
    "    elif phase==2:# phase 2: choose player to steal card. Only main_id can enter this phase\n",
    "        env[74] = env[58:62][int(action-11)]\n",
    "        env[67] = 3\n",
    "    elif phase==3: #phase 3: choose card to give/take. Only main_id can enter this phase\n",
    "        if last_action==3:\n",
    "            all_card_to_take = np.where(env[getCardRange(type_card)]==env[74])[0]\n",
    "            type_card = action - 15\n",
    "            env[getCardRange(type_card)][all_card_to_take[0]] = env[57]\n",
    "        elif last_action==7:\n",
    "            card_on_player_chosen = np.where(env[0:56]==env[74])[0]\n",
    "            card = np.random.choice(card_on_player_chosen)\n",
    "            env[0:56][card] = env[57]\n",
    "            #used card go to Discard Pile\n",
    "            discardCardSpecialAction(env,last_action)\n",
    "        elif last_action==8:\n",
    "            #take card\n",
    "            all_card_to_take = np.where(env[getCardRange(type_card)]==env[74])[0]\n",
    "            type_card = action - 27\n",
    "            if all_card_to_take.shape[0]>0:\n",
    "                env[getCardRange(type_card)][all_card_to_take[0]] = env[57]\n",
    "            #used card go to Discard Pile\n",
    "            discardCardSpecialAction(env,last_action)\n",
    "        elif last_action==9:\n",
    "            type_card = action - 38\n",
    "            if np.where(env[getCardRange(type_card)]==6)[0].shape[0]>0:\n",
    "                env[getCardRange(type_card)][np.where(env[getCardRange(type_card)]==6)[0][0]] = env[57]\n",
    "            discardCardSpecialAction(env,last_action)\n",
    "        env[67] = 0\n",
    "    return env"
   ]
  },
  {
   "cell_type": "code",
   "execution_count": 319,
   "metadata": {},
   "outputs": [],
   "source": [
    "@njit\n",
    "def getAgentSize():\n",
    "    return 5"
   ]
  },
  {
   "cell_type": "code",
   "execution_count": 320,
   "metadata": {},
   "outputs": [],
   "source": [
    "@njit\n",
    "def checkEnded(env):\n",
    "    if np.sum(env[62:67])==1:\n",
    "        return 1\n",
    "    else:\n",
    "        return -1"
   ]
  },
  {
   "cell_type": "code",
   "execution_count": 321,
   "metadata": {},
   "outputs": [],
   "source": [
    "@njit\n",
    "def getReward(state):\n",
    "    if np.sum(state[82:86])==0:\n",
    "        return 1\n",
    "    elif state[87] == 0:\n",
    "        return 0\n",
    "    else:\n",
    "        return -1"
   ]
  },
  {
   "cell_type": "code",
   "execution_count": 322,
   "metadata": {},
   "outputs": [],
   "source": [
    "def run(listAgent,perData):\n",
    "    env = initEnv()\n",
    "    for _ in range(getAgentSize()):\n",
    "        dataOnePlayer = List()\n",
    "        dataOnePlayer.append(np.array([[0.]]))\n",
    "    winner = -1\n",
    "    turn = 0\n",
    "    while True:\n",
    "        turn +=1\n",
    "        phase = env[67]\n",
    "        main_id = env[57]\n",
    "        nope_id = env[73]\n",
    "        nope_count = env[56]\n",
    "        last_action = env[72]\n",
    "        if phase==0:\n",
    "            pIdx = main_id\n",
    "        elif phase==1:\n",
    "            pIdx = nope_id\n",
    "        elif phase==2:\n",
    "            pIdx = main_id\n",
    "        elif phase==3:\n",
    "            pIdx = main_id\n",
    "        action, perData = listAgent[pIdx](getAgentState(env), perData)\n",
    "        env = stepEnv(action, env)\n",
    "        winner = checkEnded(env)\n",
    "        if winner != -1:\n",
    "            break\n",
    "    return winner, perData\n"
   ]
  },
  {
   "cell_type": "code",
   "execution_count": 323,
   "metadata": {},
   "outputs": [],
   "source": [
    "def main(listAgent, times, perData):\n",
    "    numWin = np.full(6, 0)\n",
    "    pIdOrder = np.arange(5)\n",
    "    for _ in range(times):\n",
    "        np.random.shuffle(pIdOrder)\n",
    "        shuffledListAgent = [listAgent[i] for i in pIdOrder]\n",
    "        winner, perData = run(shuffledListAgent, perData)\n",
    "        if winner == -1:\n",
    "            numWin[-1] += 1\n",
    "        else:\n",
    "            numWin[pIdOrder[winner]] += 1\n",
    "    return numWin, perData"
   ]
  },
  {
   "cell_type": "code",
   "execution_count": 324,
   "metadata": {},
   "outputs": [],
   "source": [
    "@njit\n",
    "def random_player(state,temp,per):\n",
    "    list_action  = np.where(getValidActions(state)==1)[0]\n",
    "    action = np.random.choice(list_action)\n",
    "    return action,temp,per"
   ]
  },
  {
   "cell_type": "code",
   "execution_count": 352,
   "metadata": {},
   "outputs": [],
   "source": [
    "@njit\n",
    "def drawCard(env,draw_pile,discard_pile):\n",
    "    for i in range(int(env[68])):\n",
    "        if checkExploding(draw_pile[0]):#draw an exploding kitten\n",
    "            if checkDefuse(env,discard_pile):#player have defuse\n",
    "                idx = np.random.randint(draw_pile.shape[0])\n",
    "                draw_pile_2 = draw_pile.copy()\n",
    "                draw_pile_2[0:idx] = draw_pile[1:idx+1]\n",
    "                draw_pile_2[idx] = draw_pile[0]\n",
    "                draw_pile_2[idx+1:] = draw_pile[idx+1:]\n",
    "                draw_pile = draw_pile_2\n",
    "                #insert explode card back to the Draw Pile\n",
    "            else:#player lost\n",
    "                env[62:67][int(env[57])] = 0\n",
    "                discard_pile = np.append(discard_pile,draw_pile[0])\n",
    "                draw_pile = draw_pile[1:]\n",
    "        else:#draw other card\n",
    "            env[0:56][int(draw_pile[0])] = env[57] #draw\n",
    "            discard_pile = np.append(discard_pile,draw_pile[0])\n",
    "            draw_pile = draw_pile[1:]\n",
    "    "
   ]
  },
  {
   "cell_type": "code",
   "execution_count": 353,
   "metadata": {},
   "outputs": [],
   "source": [
    "drawCard2(*initEnv())"
   ]
  },
  {
   "cell_type": "code",
   "execution_count": 356,
   "metadata": {},
   "outputs": [
    {
     "data": {
      "text/plain": [
       "array([0., 0., 0., 0.])"
      ]
     },
     "execution_count": 356,
     "metadata": {},
     "output_type": "execute_result"
    }
   ],
   "source": [
    "a = np.zeros(15)\n",
    "a[getCardRange(2)]"
   ]
  }
 ],
 "metadata": {
  "kernelspec": {
   "display_name": "pytorchenv",
   "language": "python",
   "name": "python3"
  },
  "language_info": {
   "codemirror_mode": {
    "name": "ipython",
    "version": 3
   },
   "file_extension": ".py",
   "mimetype": "text/x-python",
   "name": "python",
   "nbconvert_exporter": "python",
   "pygments_lexer": "ipython3",
   "version": "3.9.15 (main, Nov  4 2022, 16:35:55) [MSC v.1916 64 bit (AMD64)]"
  },
  "orig_nbformat": 4,
  "vscode": {
   "interpreter": {
    "hash": "5581cd8f8e7f555d1c7b7d5c73b743c62e9c35962a29bf47b3ccdfb22fa58433"
   }
  }
 },
 "nbformat": 4,
 "nbformat_minor": 2
}
