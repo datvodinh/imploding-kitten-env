{
 "cells": [
  {
   "cell_type": "code",
   "execution_count": 1,
   "metadata": {},
   "outputs": [],
   "source": [
    "from env import *"
   ]
  },
  {
   "cell_type": "code",
   "execution_count": 2,
   "metadata": {},
   "outputs": [
    {
     "data": {
      "text/plain": [
       "(array([ 99708, 100041,  99910, 100439,  99902,      0], dtype=int64), 0)"
      ]
     },
     "execution_count": 2,
     "metadata": {},
     "output_type": "execute_result"
    }
   ],
   "source": [
    "numbaMain(random_player,random_player,random_player,random_player,random_player,500000,0)"
   ]
  },
  {
   "cell_type": "code",
   "execution_count": 3,
   "metadata": {},
   "outputs": [],
   "source": [
    "env = np.array([6.0, 6.0, 6.0, 6.0, 6.0, 6.0, 6.0, 6.0, 6.0, 6.0, 6.0, 6.0, 5.0, 6.0, 6.0, 6.0, 6.0, 6.0, 6.0, 6.0, 6.0, 6.0, 6.0, 6.0, 6.0, 6.0, 6.0, 6.0, 6.0, 6.0, 6.0, 6.0, 6.0, 6.0, 6.0, 6.0, 6.0, 6.0, 6.0, 6.0, 6.0, 6.0, 6.0, 6.0, 6.0, 6.0, 6.0, 6.0, 6.0, 6.0, 6.0, 6.0, 6.0, 6.0, 6.0, 6.0, 2.0, 3.0, 4.0, 0.0, 1.0, 2.0, 1.0, 0.0, 0.0, 1.0, 0.0, 3.0, 1.0, 0.0, 0.0, 0.0, 3.0, 3.0, 3.0])\n",
    "draw_pile = np.array([-1.0, -1.0, -1.0, -1.0, -1.0, -1.0, -1.0, -1.0, -1.0, -1.0, -1.0, -1.0, -1.0, -1.0, -1.0, -1.0, -1.0, -1.0, -1.0, -1.0, -1.0, -1.0, -1.0, -1.0, -1.0, -1.0, -1.0, -1.0, -1.0, -1.0, 53.0])\n",
    "discard_pile = np.array([6.0, 2.0, 5.0, 3.0, 2.0, 3.0, 2.0, 2.0, 0.0, 2.0, 5.0, 9.0, 4.0])"
   ]
  },
  {
   "cell_type": "code",
   "execution_count": 4,
   "metadata": {},
   "outputs": [
    {
     "data": {
      "text/plain": [
       "array([0., 0., 0., 0., 0., 0., 0., 0., 0., 0., 0., 0., 0., 0., 0., 0., 0.,\n",
       "       0., 0., 0., 0., 0., 0., 0., 0., 0., 0., 0., 0., 0., 0., 0., 0., 0.,\n",
       "       0., 0., 0., 0., 0., 0., 0., 0., 0., 0., 0., 0., 0., 0., 0., 0., 0.])"
      ]
     },
     "execution_count": 4,
     "metadata": {},
     "output_type": "execute_result"
    }
   ],
   "source": [
    "getValidActions(getAgentState(env,draw_pile,discard_pile))"
   ]
  },
  {
   "cell_type": "code",
   "execution_count": 5,
   "metadata": {},
   "outputs": [
    {
     "data": {
      "text/plain": [
       "array([0., 0., 0., 1.])"
      ]
     },
     "execution_count": 5,
     "metadata": {},
     "output_type": "execute_result"
    }
   ],
   "source": [
    "getAgentState(env,draw_pile,discard_pile)[67:71]"
   ]
  },
  {
   "cell_type": "code",
   "execution_count": 6,
   "metadata": {},
   "outputs": [
    {
     "data": {
      "text/plain": [
       "3.0"
      ]
     },
     "execution_count": 6,
     "metadata": {},
     "output_type": "execute_result"
    }
   ],
   "source": [
    "env[67]"
   ]
  },
  {
   "cell_type": "code",
   "execution_count": 7,
   "metadata": {},
   "outputs": [
    {
     "data": {
      "text/plain": [
       "(array([6., 6., 6., 6., 6., 6., 6., 6., 6., 6., 6., 6., 5., 6., 6., 6., 6.,\n",
       "        6., 6., 6., 6., 6., 6., 6., 6., 6., 6., 6., 6., 6., 6., 6., 6., 6.,\n",
       "        6., 6., 6., 6., 6., 6., 6., 6., 6., 6., 6., 6., 6., 6., 6., 6., 6.,\n",
       "        6., 6., 6., 6., 6., 2., 3., 4., 0., 1., 2., 1., 0., 0., 1., 0., 3.,\n",
       "        1., 0., 0., 0., 3., 3., 3.]),\n",
       " array([-1., -1., -1., -1., -1., -1., -1., -1., -1., -1., -1., -1., -1.,\n",
       "        -1., -1., -1., -1., -1., -1., -1., -1., -1., -1., -1., -1., -1.,\n",
       "        -1., -1., -1., -1., 53.]),\n",
       " array([6., 2., 5., 3., 2., 3., 2., 2., 0., 2., 5., 9., 4.]))"
      ]
     },
     "execution_count": 7,
     "metadata": {},
     "output_type": "execute_result"
    }
   ],
   "source": [
    "env,draw_pile,discard_pile"
   ]
  },
  {
   "cell_type": "code",
   "execution_count": 8,
   "metadata": {},
   "outputs": [
    {
     "data": {
      "text/plain": [
       "array([6., 6., 6., 6., 6., 6., 6., 6., 6., 6., 6., 6., 5., 6., 6., 6., 6.,\n",
       "       6., 6., 6., 6., 6., 6., 6., 6., 6., 6., 6., 6., 6., 6., 6., 6., 6.,\n",
       "       6., 6., 6., 6., 6., 6., 6., 6., 6., 6., 6., 6., 6., 6., 6., 6., 6.,\n",
       "       6., 6., 6., 6., 6.])"
      ]
     },
     "execution_count": 8,
     "metadata": {},
     "output_type": "execute_result"
    }
   ],
   "source": [
    "env[0:56]"
   ]
  },
  {
   "cell_type": "code",
   "execution_count": 9,
   "metadata": {},
   "outputs": [
    {
     "data": {
      "text/plain": [
       "(3.0, 3.0, 3.0, 3.0)"
      ]
     },
     "execution_count": 9,
     "metadata": {},
     "output_type": "execute_result"
    }
   ],
   "source": [
    "env[57],env[72],env[67],env[74]"
   ]
  },
  {
   "cell_type": "code",
   "execution_count": 10,
   "metadata": {},
   "outputs": [
    {
     "data": {
      "text/plain": [
       "array([0., 0., 0.])"
      ]
     },
     "execution_count": 10,
     "metadata": {},
     "output_type": "execute_result"
    }
   ],
   "source": [
    "env[69:72]"
   ]
  },
  {
   "cell_type": "code",
   "execution_count": 11,
   "metadata": {},
   "outputs": [],
   "source": [
    "for i in range(5):\n",
    "    if np.where(env[0:56]==i)[0].shape[0]>0:\n",
    "        print(visualCard(np.where(env[0:56]==i)[0]))"
   ]
  },
  {
   "cell_type": "code",
   "execution_count": 12,
   "metadata": {},
   "outputs": [
    {
     "ename": "IndexError",
     "evalue": "list index out of range",
     "output_type": "error",
     "traceback": [
      "\u001b[1;31m---------------------------------------------------------------------------\u001b[0m",
      "\u001b[1;31mIndexError\u001b[0m                                Traceback (most recent call last)",
      "\u001b[1;32m~\\AppData\\Local\\Temp/ipykernel_22884/2967573067.py\u001b[0m in \u001b[0;36m<module>\u001b[1;34m\u001b[0m\n\u001b[1;32m----> 1\u001b[1;33m \u001b[0menv\u001b[0m\u001b[1;33m,\u001b[0m\u001b[0mdraw_pile\u001b[0m\u001b[1;33m,\u001b[0m\u001b[0mdiscard_pile\u001b[0m \u001b[1;33m=\u001b[0m \u001b[0mstepEnv\u001b[0m\u001b[1;33m(\u001b[0m\u001b[0menv\u001b[0m\u001b[1;33m,\u001b[0m\u001b[0mdraw_pile\u001b[0m\u001b[1;33m,\u001b[0m\u001b[0mdiscard_pile\u001b[0m\u001b[1;33m,\u001b[0m\u001b[1;36m0\u001b[0m\u001b[1;33m)\u001b[0m\u001b[1;33m\u001b[0m\u001b[1;33m\u001b[0m\u001b[0m\n\u001b[0m",
      "\u001b[1;32mc:\\Users\\vodin\\.conda\\envs\\pytorchenv\\lib\\site-packages\\numba\\typed\\listobject.py\u001b[0m in \u001b[0;36mhandle_index\u001b[1;34m()\u001b[0m\n\u001b[0;32m    660\u001b[0m     \u001b[1;31m# check that the index is in range\u001b[0m\u001b[1;33m\u001b[0m\u001b[1;33m\u001b[0m\u001b[0m\n\u001b[0;32m    661\u001b[0m     \u001b[1;32mif\u001b[0m \u001b[0mindex\u001b[0m \u001b[1;33m<\u001b[0m \u001b[1;36m0\u001b[0m \u001b[1;32mor\u001b[0m \u001b[0mindex\u001b[0m \u001b[1;33m>=\u001b[0m \u001b[0mlen\u001b[0m\u001b[1;33m(\u001b[0m\u001b[0ml\u001b[0m\u001b[1;33m)\u001b[0m\u001b[1;33m:\u001b[0m\u001b[1;33m\u001b[0m\u001b[1;33m\u001b[0m\u001b[0m\n\u001b[1;32m--> 662\u001b[1;33m         \u001b[1;32mraise\u001b[0m \u001b[0mIndexError\u001b[0m\u001b[1;33m(\u001b[0m\u001b[1;34m\"list index out of range\"\u001b[0m\u001b[1;33m)\u001b[0m\u001b[1;33m\u001b[0m\u001b[1;33m\u001b[0m\u001b[0m\n\u001b[0m\u001b[0;32m    663\u001b[0m     \u001b[1;32mreturn\u001b[0m \u001b[0mindex\u001b[0m\u001b[1;33m\u001b[0m\u001b[1;33m\u001b[0m\u001b[0m\n\u001b[0;32m    664\u001b[0m \u001b[1;33m\u001b[0m\u001b[0m\n",
      "\u001b[1;31mIndexError\u001b[0m: list index out of range"
     ]
    }
   ],
   "source": [
    "env,draw_pile,discard_pile = stepEnv(env,draw_pile,discard_pile,0)"
   ]
  },
  {
   "cell_type": "code",
   "execution_count": null,
   "metadata": {},
   "outputs": [],
   "source": [
    "getValidActions(getAgentState(env,draw_pile,discard_pile))"
   ]
  },
  {
   "cell_type": "code",
   "execution_count": null,
   "metadata": {},
   "outputs": [],
   "source": [
    "env[72]"
   ]
  },
  {
   "cell_type": "code",
   "execution_count": null,
   "metadata": {},
   "outputs": [],
   "source": [
    "env[67],env[57]"
   ]
  },
  {
   "cell_type": "code",
   "execution_count": 13,
   "metadata": {},
   "outputs": [],
   "source": [
    "from env import *"
   ]
  },
  {
   "cell_type": "code",
   "execution_count": 14,
   "metadata": {},
   "outputs": [],
   "source": [
    "def random_player2(state,per):\n",
    "    list_action  = np.where(getValidActions(state)==1)[0]\n",
    "    action = np.random.choice(list_action)\n",
    "    print(list_action)\n",
    "    return action,per"
   ]
  },
  {
   "cell_type": "code",
   "execution_count": 15,
   "metadata": {},
   "outputs": [
    {
     "name": "stdout",
     "output_type": "stream",
     "text": [
      "[3 6 7]\n",
      "[ 0 10]\n",
      "[ 0 10]\n",
      "[3 6]\n",
      "[11 12 13 14]\n",
      "[15 26]\n",
      "[6]\n",
      "[1 3 6]\n",
      "[ 0 10]\n",
      "[2 3 4 6]\n",
      "[ 0 10]\n",
      "[11 12 13 14]\n",
      "[18 22 23 26]\n",
      "[2 4 6 7]\n",
      "[1 6]\n",
      "[ 0 10]\n",
      "[2 3 6]\n",
      "[5 6]\n",
      "[6]\n",
      "[3 6]\n",
      "[2 4 6 7 9]\n",
      "[ 0 10]\n",
      "[2 6 7]\n",
      "[ 0 10]\n",
      "[11 12 13 14]\n",
      "[2 6]\n",
      "[6]\n",
      "[2 3 5 6 9]\n",
      "[6 7]\n",
      "[11 12 13 14]\n",
      "[6]\n",
      "[3 4 6]\n",
      "[2 6 7]\n",
      "[ 0 10]\n",
      "[11 12 13 14]\n",
      "[6 7]\n",
      "[ 0 10]\n",
      "[11 12 13 14]\n",
      "[6]\n",
      "[6]\n",
      "[1 2 3 5 6 9]\n",
      "[ 0 10]\n",
      "[11 12 13 14]\n",
      "[19 23 24 26]\n",
      "[1 2 5 6 9]\n",
      "[ 0 10]\n",
      "[39 40 41 42 43 44 45 46 47 48 49 50]\n",
      "[6]\n",
      "[6]\n",
      "[3 4 6]\n",
      "[ 0 10]\n",
      "[10]\n",
      "[4 6]\n",
      "[6]\n",
      "[6]\n",
      "[4 6]\n",
      "[6]\n",
      "[6]\n",
      "[6]\n",
      "[5 6]\n",
      "[6]\n",
      "[5 6]\n",
      "[6 7]\n",
      "[11 12 14]\n",
      "[6]\n",
      "[6 7]\n",
      "[6]\n",
      "[4 5 6]\n",
      "[6]\n",
      "[6 7]\n",
      "[11 13 14]\n",
      "[6]\n",
      "[2 6]\n",
      "[4 5 6]\n",
      "[5 6]\n",
      "[6]\n",
      "[1 2 6]\n",
      "[4 5 6]\n"
     ]
    },
    {
     "data": {
      "text/plain": [
       "(array([0, 1, 0, 0, 0, 0]), 0)"
      ]
     },
     "execution_count": 15,
     "metadata": {},
     "output_type": "execute_result"
    }
   ],
   "source": [
    "main([random_player2]*5,1,0)"
   ]
  }
 ],
 "metadata": {
  "kernelspec": {
   "display_name": "pytorchenv",
   "language": "python",
   "name": "python3"
  },
  "language_info": {
   "codemirror_mode": {
    "name": "ipython",
    "version": 3
   },
   "file_extension": ".py",
   "mimetype": "text/x-python",
   "name": "python",
   "nbconvert_exporter": "python",
   "pygments_lexer": "ipython3",
   "version": "3.9.15"
  },
  "orig_nbformat": 4,
  "vscode": {
   "interpreter": {
    "hash": "5581cd8f8e7f555d1c7b7d5c73b743c62e9c35962a29bf47b3ccdfb22fa58433"
   }
  }
 },
 "nbformat": 4,
 "nbformat_minor": 2
}
